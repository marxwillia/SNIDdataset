{
 "cells": [
  {
   "cell_type": "markdown",
   "metadata": {},
   "source": [
    "# SNIDdataset and SNIDsn Tutorial"
   ]
  },
  {
   "cell_type": "code",
   "execution_count": 1,
   "metadata": {
    "collapsed": false,
    "scrolled": true
   },
   "outputs": [],
   "source": [
    "import SNIDsn\n",
    "import SNIDdataset\n",
    "import numpy as np"
   ]
  },
  {
   "cell_type": "markdown",
   "metadata": {},
   "source": [
    "## SNIDsn"
   ]
  },
  {
   "cell_type": "markdown",
   "metadata": {},
   "source": [
    "SNIDsn is a Python class that loads the .lnw template files from SNID. An instance has the following fields:\n",
    "\n",
    "header -- A dictionary containing information about the template.\n",
    "\n",
    "continuum -- A numpy array containing the removed continuum.\n",
    "\n",
    "phases -- A numpy array of the phases observed in the template.\n",
    "\n",
    "phaseType -- 0 for phases measured relative to Vmax, 1 for date of discovery.\n",
    "\n",
    "wavelengths -- A numpy array with the wavelengths for the observed spectra.\n",
    "\n",
    "data -- A structured numpy array containing the spectra. Check dtype.names for column names.\n",
    "\n",
    "type -- A string giving the type of the object in the template.\n",
    "\n",
    "subtype -- A string giving the subtype (if any) of the object in the template."
   ]
  },
  {
   "cell_type": "code",
   "execution_count": 20,
   "metadata": {
    "collapsed": true
   },
   "outputs": [],
   "source": [
    "sn04gt = SNIDsn.SNIDsn()"
   ]
  },
  {
   "cell_type": "code",
   "execution_count": 21,
   "metadata": {
    "collapsed": false
   },
   "outputs": [],
   "source": [
    "sn04gt.loadSNIDlnw('test/sn2004gt.lnw')"
   ]
  },
  {
   "cell_type": "code",
   "execution_count": 22,
   "metadata": {
    "collapsed": false
   },
   "outputs": [
    {
     "data": {
      "text/plain": [
       "{'Nbins': 1024,\n",
       " 'Nspec': 13,\n",
       " 'SN': 'sn2004gt',\n",
       " 'SplineKnots': 10,\n",
       " 'SubTypeInt': 2,\n",
       " 'TypeInt': 3,\n",
       " 'TypeStr': 'Ic-norm',\n",
       " 'WvlEnd': 10000.0,\n",
       " 'WvlStart': 2500.0,\n",
       " 'dm15': -9.99}"
      ]
     },
     "execution_count": 22,
     "metadata": {},
     "output_type": "execute_result"
    }
   ],
   "source": [
    "sn04gt.header"
   ]
  },
  {
   "cell_type": "code",
   "execution_count": 23,
   "metadata": {
    "collapsed": false
   },
   "outputs": [
    {
     "data": {
      "text/plain": [
       "array([ 16.4,  18.4,  19.4,  22.4,  43.3,  48.2,  70.1,  81.1, 100. ,\n",
       "       131.8, 141.7, 167.6, 186.5])"
      ]
     },
     "execution_count": 23,
     "metadata": {},
     "output_type": "execute_result"
    }
   ],
   "source": [
    "sn04gt.phases"
   ]
  },
  {
   "cell_type": "markdown",
   "metadata": {},
   "source": [
    "Get column names for spectra structured array"
   ]
  },
  {
   "cell_type": "code",
   "execution_count": 24,
   "metadata": {
    "collapsed": false
   },
   "outputs": [
    {
     "name": "stdout",
     "output_type": "stream",
     "text": [
      "('Ph16.4', 'Ph18.4', 'Ph19.4', 'Ph22.4', 'Ph43.3', 'Ph48.2', 'Ph70.1', 'Ph81.1', 'Ph100.0', 'Ph131.8', 'Ph141.7', 'Ph167.6', 'Ph186.5')\n",
      "('Ph16.4', 'Ph18.4', 'Ph19.4', 'Ph22.4', 'Ph43.3', 'Ph48.2', 'Ph70.1', 'Ph81.1', 'Ph100.0', 'Ph131.8', 'Ph141.7', 'Ph167.6', 'Ph186.5')\n"
     ]
    }
   ],
   "source": [
    "print sn04gt.data.dtype.names\n",
    "print sn04gt.getSNCols()"
   ]
  },
  {
   "cell_type": "markdown",
   "metadata": {},
   "source": [
    "Use column names to get spectra at specific phases:"
   ]
  },
  {
   "cell_type": "code",
   "execution_count": 25,
   "metadata": {
    "collapsed": false
   },
   "outputs": [
    {
     "name": "stdout",
     "output_type": "stream",
     "text": [
      "[0. 0. 0. ... 0. 0. 0.]\n"
     ]
    }
   ],
   "source": [
    "spec = sn04gt.data['Ph16.4']\n",
    "print spec"
   ]
  },
  {
   "cell_type": "markdown",
   "metadata": {},
   "source": [
    "Filter wavelengths to a certain range, and filter the spectra."
   ]
  },
  {
   "cell_type": "code",
   "execution_count": 8,
   "metadata": {
    "collapsed": false
   },
   "outputs": [
    {
     "name": "stdout",
     "output_type": "stream",
     "text": [
      "(414,)\n",
      "(414,)\n"
     ]
    }
   ],
   "source": [
    "sn04gt.wavelengthFilter(wvlmin=4000, wvlmax=7000)\n",
    "print sn04gt.wavelengths.shape\n",
    "print sn04gt.data.shape"
   ]
  },
  {
   "cell_type": "markdown",
   "metadata": {},
   "source": [
    "Replace 0.0 placeholder value used by SNID with np.nan"
   ]
  },
  {
   "cell_type": "code",
   "execution_count": 26,
   "metadata": {
    "collapsed": false
   },
   "outputs": [],
   "source": [
    "sn04gt.snidNAN()"
   ]
  },
  {
   "cell_type": "markdown",
   "metadata": {},
   "source": [
    "Remove columns from the spectra matrix."
   ]
  },
  {
   "cell_type": "code",
   "execution_count": 12,
   "metadata": {
    "collapsed": true
   },
   "outputs": [],
   "source": [
    "sn04gt.removeSpecCol('Ph16.4')"
   ]
  },
  {
   "cell_type": "code",
   "execution_count": 27,
   "metadata": {
    "collapsed": false
   },
   "outputs": [
    {
     "data": {
      "text/plain": [
       "array([nan, nan, nan, ..., nan, nan, nan], dtype=float32)"
      ]
     },
     "execution_count": 27,
     "metadata": {},
     "output_type": "execute_result"
    }
   ],
   "source": [
    "sn04gt.data['Ph19.4']"
   ]
  },
  {
   "cell_type": "code",
   "execution_count": 94,
   "metadata": {
    "collapsed": true
   },
   "outputs": [],
   "source": [
    "def findGaps(spec, wvl):\n",
    "    nanind = np.argwhere(np.isnan(spec)).flatten()\n",
    "    nanwvl = wvl[np.isnan(spec)]\n",
    "    gaps = []\n",
    "    gapStartInd = nanind[0]\n",
    "    gapStartWvl = nanwvl[0]\n",
    "    for i in range(0,len(nanind) - 0):\n",
    "        ind = nanind[i]\n",
    "        if ind == nanind[-1]:\n",
    "            gap = (gapStartWvl, wvl[ind])\n",
    "            gaps.append(gap)\n",
    "            break\n",
    "        nextInd = nanind[i + 1]\n",
    "        if ind +1 != nextInd:\n",
    "            gap = (gapStartWvl, wvl[ind])\n",
    "            gaps.append(gap)\n",
    "            gapStartInd = nextInd\n",
    "            gapStartWvl = wvl[nextInd]\n",
    "    return gaps\n",
    "\n",
    "def largeGapsInRange(gaps, minwvl, maxwvl, maxgapsize):\n",
    "    gapInRange = False\n",
    "    for gap in gaps:\n",
    "        gapStart = gap[0]\n",
    "        gapEnd = gap[1]\n",
    "        gapsize = gapEnd - gapStart\n",
    "        if maxgapsize > gapsize:\n",
    "            continue\n",
    "        else:\n",
    "            if gapStart < minwvl and gapEnd > maxwvl: gapInRange = True\n",
    "            if gapStart > minwvl and gapStart < maxwvl: gapInRange = True\n",
    "            if gapEnd > minwvl and gapEnd < maxwvl: gapInRange = True\n",
    "    return gapInRange\n",
    "\n",
    "def getInterpRange(wavelengths, minwvl, maxwvl, spec):\n",
    "    wv = wavelengths[np.logical_and(wavelengths > minwvl, wavelengths < maxwvl)]\n",
    "    wvStart = wv[0]\n",
    "    wvEnd = wv[-1]\n",
    "    wvFinite = wavelengths[np.isfinite(wavelengths)]"
   ]
  },
  {
   "cell_type": "code",
   "execution_count": 60,
   "metadata": {
    "collapsed": false
   },
   "outputs": [],
   "source": [
    "sp = np.array([np.nan, np.nan, 1, 1, 1, np.nan, 1, np.nan, 1, 1, np.nan, np.nan])\n",
    "wv = np.arange(0,len(sp))+100"
   ]
  },
  {
   "cell_type": "code",
   "execution_count": 61,
   "metadata": {
    "collapsed": false
   },
   "outputs": [
    {
     "data": {
      "text/plain": [
       "[(100, 101), (105, 105), (107, 107), (110, 111)]"
      ]
     },
     "execution_count": 61,
     "metadata": {},
     "output_type": "execute_result"
    }
   ],
   "source": [
    "findGaps(sp, wv)"
   ]
  },
  {
   "cell_type": "code",
   "execution_count": 62,
   "metadata": {
    "collapsed": false
   },
   "outputs": [
    {
     "name": "stdout",
     "output_type": "stream",
     "text": [
      "[100 101 102 103 104 105 106 107 108 109 110 111]\n",
      "[nan nan  1.  1.  1. nan  1. nan  1.  1. nan nan]\n"
     ]
    }
   ],
   "source": [
    "print wv\n",
    "print sp"
   ]
  },
  {
   "cell_type": "code",
   "execution_count": 88,
   "metadata": {
    "collapsed": false
   },
   "outputs": [],
   "source": [
    "g = findGaps(sn04gt.data['Ph19.4'], sn04gt.wavelengths)"
   ]
  },
  {
   "cell_type": "code",
   "execution_count": 89,
   "metadata": {
    "collapsed": false
   },
   "outputs": [
    {
     "data": {
      "text/plain": [
       "[(2501.69, 3689.57),\n",
       " (6031.16, 6031.16),\n",
       " (6298.19, 6298.19),\n",
       " (6766.7, 6766.7),\n",
       " (9543.68, 9543.68),\n",
       " (9569.56, 9993.24)]"
      ]
     },
     "execution_count": 89,
     "metadata": {},
     "output_type": "execute_result"
    }
   ],
   "source": [
    "g"
   ]
  },
  {
   "cell_type": "code",
   "execution_count": 93,
   "metadata": {
    "collapsed": false
   },
   "outputs": [
    {
     "data": {
      "text/plain": [
       "True"
      ]
     },
     "execution_count": 93,
     "metadata": {},
     "output_type": "execute_result"
    }
   ],
   "source": [
    "largeGapsInRange(g, 4000, 7000, -1)"
   ]
  },
  {
   "cell_type": "code",
   "execution_count": null,
   "metadata": {
    "collapsed": true
   },
   "outputs": [],
   "source": []
  },
  {
   "cell_type": "code",
   "execution_count": null,
   "metadata": {
    "collapsed": true
   },
   "outputs": [],
   "source": []
  },
  {
   "cell_type": "code",
   "execution_count": null,
   "metadata": {
    "collapsed": true
   },
   "outputs": [],
   "source": []
  },
  {
   "cell_type": "markdown",
   "metadata": {},
   "source": [
    "You can save your SNIDsn object using pickle (it automatically names the pickle file and puts it in the directory you specify.):"
   ]
  },
  {
   "cell_type": "code",
   "execution_count": 8,
   "metadata": {
    "collapsed": true
   },
   "outputs": [],
   "source": [
    "sn04gt.save('test/')"
   ]
  },
  {
   "cell_type": "markdown",
   "metadata": {},
   "source": [
    "## SNIDdataset"
   ]
  },
  {
   "cell_type": "markdown",
   "metadata": {},
   "source": [
    "For many applications, you will want to load many SNID templates and easily work with them in a dataset. This module facilitates your work by creating a dictionary of SNIDsn objects. "
   ]
  },
  {
   "cell_type": "markdown",
   "metadata": {},
   "source": [
    "Load the templates specified in snlist, located in the directory specified by pathdir."
   ]
  },
  {
   "cell_type": "code",
   "execution_count": 9,
   "metadata": {
    "collapsed": true
   },
   "outputs": [],
   "source": [
    "SNIDset = SNIDdataset.loadDataset(pathdir='test/', snlist='snlist.txt')"
   ]
  },
  {
   "cell_type": "code",
   "execution_count": 10,
   "metadata": {
    "collapsed": false
   },
   "outputs": [
    {
     "data": {
      "text/plain": [
       "['sn1997ef',\n",
       " 'sn1998dt',\n",
       " 'sn2008ax',\n",
       " 'sn2004dk',\n",
       " 'sn2011ei',\n",
       " 'sn2007Y',\n",
       " 'sn2011fu',\n",
       " 'sn2004gt',\n",
       " 'sn2010ay',\n",
       " 'sn2004gq']"
      ]
     },
     "execution_count": 10,
     "metadata": {},
     "output_type": "execute_result"
    }
   ],
   "source": [
    "SNIDset.keys()"
   ]
  },
  {
   "cell_type": "markdown",
   "metadata": {},
   "source": [
    "Get the type breakdown of your dataset:"
   ]
  },
  {
   "cell_type": "code",
   "execution_count": 11,
   "metadata": {
    "collapsed": true
   },
   "outputs": [],
   "source": [
    "typedict = SNIDdataset.datasetTypeDict(SNIDset)"
   ]
  },
  {
   "cell_type": "code",
   "execution_count": 12,
   "metadata": {
    "collapsed": false
   },
   "outputs": [
    {
     "data": {
      "text/plain": [
       "{'IIb': array(['sn2008ax', 'sn2011ei', 'sn2011fu'],\n",
       "       dtype='|S8'),\n",
       " 'Ib': array(['sn1998dt', 'sn2004dk', 'sn2007Y', 'sn2004gq'],\n",
       "       dtype='|S8'),\n",
       " 'Ic': array(['sn2004gt'],\n",
       "       dtype='|S8'),\n",
       " 'IcBL': array(['sn1997ef', 'sn2010ay'],\n",
       "       dtype='|S8')}"
      ]
     },
     "execution_count": 12,
     "metadata": {},
     "output_type": "execute_result"
    }
   ],
   "source": [
    "typedict"
   ]
  },
  {
   "cell_type": "markdown",
   "metadata": {},
   "source": [
    "Use the type dictionary to create subsets of your dataset:"
   ]
  },
  {
   "cell_type": "code",
   "execution_count": 13,
   "metadata": {
    "collapsed": true
   },
   "outputs": [],
   "source": [
    "IIb_dataset = SNIDdataset.subset(SNIDset, typedict['IIb'])"
   ]
  },
  {
   "cell_type": "code",
   "execution_count": 14,
   "metadata": {
    "collapsed": false
   },
   "outputs": [
    {
     "data": {
      "text/plain": [
       "['sn2011fu', 'sn2008ax', 'sn2011ei']"
      ]
     },
     "execution_count": 14,
     "metadata": {},
     "output_type": "execute_result"
    }
   ],
   "source": [
    "IIb_dataset.keys()"
   ]
  },
  {
   "cell_type": "code",
   "execution_count": null,
   "metadata": {
    "collapsed": true
   },
   "outputs": [],
   "source": []
  }
 ],
 "metadata": {
  "kernelspec": {
   "display_name": "Python 2",
   "language": "python",
   "name": "python2"
  },
  "language_info": {
   "codemirror_mode": {
    "name": "ipython",
    "version": 2
   },
   "file_extension": ".py",
   "mimetype": "text/x-python",
   "name": "python",
   "nbconvert_exporter": "python",
   "pygments_lexer": "ipython2",
   "version": "2.7.1"
  }
 },
 "nbformat": 4,
 "nbformat_minor": 2
}
