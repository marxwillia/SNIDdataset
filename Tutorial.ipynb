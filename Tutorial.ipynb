{
 "cells": [
  {
   "cell_type": "markdown",
   "metadata": {},
   "source": [
    "# SNIDdataset and SNIDsn Tutorial"
   ]
  },
  {
   "cell_type": "code",
   "execution_count": 1,
   "metadata": {
    "collapsed": false,
    "scrolled": true
   },
   "outputs": [],
   "source": [
    "import SNIDsn\n",
    "import SNIDdataset\n",
    "import numpy as np"
   ]
  },
  {
   "cell_type": "markdown",
   "metadata": {},
   "source": [
    "## SNIDsn"
   ]
  },
  {
   "cell_type": "markdown",
   "metadata": {},
   "source": [
    "SNIDsn is a Python class that loads the .lnw template files from SNID. An instance has the following fields:\n",
    "\n",
    "header -- A dictionary containing information about the template.\n",
    "\n",
    "continuum -- A numpy array containing the removed continuum.\n",
    "\n",
    "phases -- A numpy array of the phases observed in the template.\n",
    "\n",
    "phaseType -- 0 for phases measured relative to Vmax, 1 for date of discovery.\n",
    "\n",
    "wavelengths -- A numpy array with the wavelengths for the observed spectra.\n",
    "\n",
    "data -- A structured numpy array containing the spectra. Check dtype.names for column names.\n",
    "\n",
    "type -- A string giving the type of the object in the template.\n",
    "\n",
    "subtype -- A string giving the subtype (if any) of the object in the template."
   ]
  },
  {
   "cell_type": "code",
   "execution_count": 2,
   "metadata": {
    "collapsed": true
   },
   "outputs": [],
   "source": [
    "sn04gt = SNIDsn.SNIDsn()"
   ]
  },
  {
   "cell_type": "code",
   "execution_count": 3,
   "metadata": {
    "collapsed": false
   },
   "outputs": [],
   "source": [
    "sn04gt.loadSNIDlnw('test/sn2004gt.lnw')"
   ]
  },
  {
   "cell_type": "code",
   "execution_count": 4,
   "metadata": {
    "collapsed": false
   },
   "outputs": [
    {
     "data": {
      "text/plain": [
       "{'Nbins': 1024,\n",
       " 'Nspec': 13,\n",
       " 'SN': 'sn2004gt',\n",
       " 'SplineKnots': 10,\n",
       " 'SubTypeInt': 2,\n",
       " 'TypeInt': 3,\n",
       " 'TypeStr': 'Ic-norm',\n",
       " 'WvlEnd': 10000.0,\n",
       " 'WvlStart': 2500.0,\n",
       " 'dm15': -9.99}"
      ]
     },
     "execution_count": 4,
     "metadata": {},
     "output_type": "execute_result"
    }
   ],
   "source": [
    "sn04gt.header"
   ]
  },
  {
   "cell_type": "code",
   "execution_count": 5,
   "metadata": {
    "collapsed": false
   },
   "outputs": [
    {
     "data": {
      "text/plain": [
       "array([ 16.4,  18.4,  19.4,  22.4,  43.3,  48.2,  70.1,  81.1, 100. ,\n",
       "       131.8, 141.7, 167.6, 186.5])"
      ]
     },
     "execution_count": 5,
     "metadata": {},
     "output_type": "execute_result"
    }
   ],
   "source": [
    "sn04gt.phases"
   ]
  },
  {
   "cell_type": "markdown",
   "metadata": {},
   "source": [
    "Get column names for spectra structured array"
   ]
  },
  {
   "cell_type": "code",
   "execution_count": 6,
   "metadata": {
    "collapsed": false
   },
   "outputs": [
    {
     "name": "stdout",
     "output_type": "stream",
     "text": [
      "('Ph16.4', 'Ph18.4', 'Ph19.4', 'Ph22.4', 'Ph43.3', 'Ph48.2', 'Ph70.1', 'Ph81.1', 'Ph100.0', 'Ph131.8', 'Ph141.7', 'Ph167.6', 'Ph186.5')\n",
      "('Ph16.4', 'Ph18.4', 'Ph19.4', 'Ph22.4', 'Ph43.3', 'Ph48.2', 'Ph70.1', 'Ph81.1', 'Ph100.0', 'Ph131.8', 'Ph141.7', 'Ph167.6', 'Ph186.5')\n"
     ]
    }
   ],
   "source": [
    "print sn04gt.data.dtype.names\n",
    "print sn04gt.getSNCols()"
   ]
  },
  {
   "cell_type": "markdown",
   "metadata": {},
   "source": [
    "Use column names to get spectra at specific phases:"
   ]
  },
  {
   "cell_type": "code",
   "execution_count": 7,
   "metadata": {
    "collapsed": false
   },
   "outputs": [
    {
     "name": "stdout",
     "output_type": "stream",
     "text": [
      "[0. 0. 0. ... 0. 0. 0.]\n"
     ]
    }
   ],
   "source": [
    "spec = sn04gt.data['Ph16.4']\n",
    "print spec"
   ]
  },
  {
   "cell_type": "markdown",
   "metadata": {},
   "source": [
    "Filter wavelengths to a certain range, and filter the spectra."
   ]
  },
  {
   "cell_type": "code",
   "execution_count": 8,
   "metadata": {
    "collapsed": false
   },
   "outputs": [
    {
     "name": "stdout",
     "output_type": "stream",
     "text": [
      "(414,)\n",
      "(414,)\n"
     ]
    }
   ],
   "source": [
    "sn04gt.wavelengthFilter(wvlmin=4000, wvlmax=7000)\n",
    "print sn04gt.wavelengths.shape\n",
    "print sn04gt.data.shape"
   ]
  },
  {
   "cell_type": "markdown",
   "metadata": {},
   "source": [
    "Replace 0.0 placeholder value used by SNID with np.nan"
   ]
  },
  {
   "cell_type": "code",
   "execution_count": 9,
   "metadata": {
    "collapsed": false
   },
   "outputs": [],
   "source": [
    "sn04gt.snidNAN()"
   ]
  },
  {
   "cell_type": "markdown",
   "metadata": {},
   "source": [
    "Remove columns from the spectra matrix."
   ]
  },
  {
   "cell_type": "code",
   "execution_count": 12,
   "metadata": {
    "collapsed": true
   },
   "outputs": [],
   "source": [
    "sn04gt.removeSpecCol('Ph16.4')"
   ]
  },
  {
   "cell_type": "markdown",
   "metadata": {},
   "source": [
    "You can save your SNIDsn object using pickle (it automatically names the pickle file and puts it in the directory you specify.):"
   ]
  },
  {
   "cell_type": "code",
   "execution_count": 8,
   "metadata": {
    "collapsed": true
   },
   "outputs": [],
   "source": [
    "sn04gt.save('test/')"
   ]
  },
  {
   "cell_type": "markdown",
   "metadata": {},
   "source": [
    "## SNIDdataset"
   ]
  },
  {
   "cell_type": "markdown",
   "metadata": {},
   "source": [
    "For many applications, you will want to load many SNID templates and easily work with them in a dataset. This module facilitates your work by creating a dictionary of SNIDsn objects. "
   ]
  },
  {
   "cell_type": "markdown",
   "metadata": {},
   "source": [
    "Load the templates specified in snlist, located in the directory specified by pathdir."
   ]
  },
  {
   "cell_type": "code",
   "execution_count": 9,
   "metadata": {
    "collapsed": true
   },
   "outputs": [],
   "source": [
    "SNIDset = SNIDdataset.loadDataset(pathdir='test/', snlist='snlist.txt')"
   ]
  },
  {
   "cell_type": "code",
   "execution_count": 10,
   "metadata": {
    "collapsed": false
   },
   "outputs": [
    {
     "data": {
      "text/plain": [
       "['sn1997ef',\n",
       " 'sn1998dt',\n",
       " 'sn2008ax',\n",
       " 'sn2004dk',\n",
       " 'sn2011ei',\n",
       " 'sn2007Y',\n",
       " 'sn2011fu',\n",
       " 'sn2004gt',\n",
       " 'sn2010ay',\n",
       " 'sn2004gq']"
      ]
     },
     "execution_count": 10,
     "metadata": {},
     "output_type": "execute_result"
    }
   ],
   "source": [
    "SNIDset.keys()"
   ]
  },
  {
   "cell_type": "markdown",
   "metadata": {},
   "source": [
    "Get the type breakdown of your dataset:"
   ]
  },
  {
   "cell_type": "code",
   "execution_count": 11,
   "metadata": {
    "collapsed": true
   },
   "outputs": [],
   "source": [
    "typedict = SNIDdataset.datasetTypeDict(SNIDset)"
   ]
  },
  {
   "cell_type": "code",
   "execution_count": 12,
   "metadata": {
    "collapsed": false
   },
   "outputs": [
    {
     "data": {
      "text/plain": [
       "{'IIb': array(['sn2008ax', 'sn2011ei', 'sn2011fu'],\n",
       "       dtype='|S8'),\n",
       " 'Ib': array(['sn1998dt', 'sn2004dk', 'sn2007Y', 'sn2004gq'],\n",
       "       dtype='|S8'),\n",
       " 'Ic': array(['sn2004gt'],\n",
       "       dtype='|S8'),\n",
       " 'IcBL': array(['sn1997ef', 'sn2010ay'],\n",
       "       dtype='|S8')}"
      ]
     },
     "execution_count": 12,
     "metadata": {},
     "output_type": "execute_result"
    }
   ],
   "source": [
    "typedict"
   ]
  },
  {
   "cell_type": "markdown",
   "metadata": {},
   "source": [
    "Use the type dictionary to create subsets of your dataset:"
   ]
  },
  {
   "cell_type": "code",
   "execution_count": 13,
   "metadata": {
    "collapsed": true
   },
   "outputs": [],
   "source": [
    "IIb_dataset = SNIDdataset.subset(SNIDset, typedict['IIb'])"
   ]
  },
  {
   "cell_type": "code",
   "execution_count": 14,
   "metadata": {
    "collapsed": false
   },
   "outputs": [
    {
     "data": {
      "text/plain": [
       "['sn2011fu', 'sn2008ax', 'sn2011ei']"
      ]
     },
     "execution_count": 14,
     "metadata": {},
     "output_type": "execute_result"
    }
   ],
   "source": [
    "IIb_dataset.keys()"
   ]
  },
  {
   "cell_type": "code",
   "execution_count": null,
   "metadata": {
    "collapsed": true
   },
   "outputs": [],
   "source": []
  }
 ],
 "metadata": {
  "kernelspec": {
   "display_name": "Python 2",
   "language": "python",
   "name": "python2"
  },
  "language_info": {
   "codemirror_mode": {
    "name": "ipython",
    "version": 2
   },
   "file_extension": ".py",
   "mimetype": "text/x-python",
   "name": "python",
   "nbconvert_exporter": "python",
   "pygments_lexer": "ipython2",
   "version": "2.7.1"
  }
 },
 "nbformat": 4,
 "nbformat_minor": 2
}
